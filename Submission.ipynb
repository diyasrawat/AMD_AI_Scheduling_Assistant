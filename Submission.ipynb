{
 "cells": [
  {
   "cell_type": "code",
   "execution_count": 1,
   "id": "6e245323-9f9f-4720-bab7-c99383592d32",
   "metadata": {},
   "outputs": [],
   "source": [
    "from flask import Flask, request, jsonify\n",
    "from threading import Thread\n",
    "import json\n",
    "import os\n",
    "from datetime import date, time,datetime"
   ]
  },
  {
   "cell_type": "code",
   "execution_count": 2,
   "id": "9a6bf88c-6b2b-46b8-87e9-47b496692557",
   "metadata": {},
   "outputs": [],
   "source": [
    "app = Flask(__name__)\n",
    "received_data = []"
   ]
  },
  {
   "cell_type": "code",
   "execution_count": 19,
   "id": "bb82a46e-ab7d-4d87-acb1-8e4f50693534",
   "metadata": {},
   "outputs": [],
   "source": [
    "from google.oauth2.credentials import Credentials\n",
    "from googleapiclient.discovery import build\n",
    "\n",
    "import pytz\n",
    "import json\n",
    "\n",
    "INDIA = pytz.timezone('Asia/Kolkata')\n",
    "\n",
    "\n",
    "def get_calendar_service(token_path):\n",
    "    with open(token_path, 'r') as f:\n",
    "        token_data = json.load(f)\n",
    "    creds = Credentials.from_authorized_user_info(token_data)\n",
    "    return build('calendar', 'v3', credentials=creds)\n",
    "\n",
    "def get_events(service, start_time, end_time):\n",
    "    events_result = service.events().list(\n",
    "        calendarId='primary',\n",
    "        timeMin=start_time.isoformat(),\n",
    "        timeMax=end_time.isoformat(),\n",
    "        singleEvents=True,\n",
    "        orderBy='startTime'\n",
    "    ).execute()\n",
    "    return events_result.get('items', [])\n",
    "\n",
    "def parse_dt(dt_str):\n",
    "    return datetime.datetime.fromisoformat(dt_str.replace('Z', '+00:00'))\n",
    "\n",
    "def extract_off_hours(events, target_date):\n",
    "    \"\"\"\n",
    "    Try to extract off-hours if there's a full-day or marked 'transparent' event.\n",
    "    Example: an event with summary 'Off hours' from 18:00 to next day 09:00\n",
    "    \"\"\"\n",
    "    for e in events:\n",
    "        summary = e.get('summary', '').lower()\n",
    "        if \"off\" in summary or \"non-working\" in summary:\n",
    "            start = parse_dt(e['start'].get('dateTime', e['start'].get('date')))\n",
    "            end = parse_dt(e['end'].get('dateTime', e['end'].get('date')))\n",
    "            if start.date() == target_date:\n",
    "                return start.time(), end.time()\n",
    "    return None, None\n",
    "\n",
    "def merge_busy_slots(events):\n",
    "    busy = []\n",
    "    for e in events:\n",
    "        start = parse_dt(e['start'].get('dateTime', e['start'].get('date')))\n",
    "        end = parse_dt(e['end'].get('dateTime', e['end'].get('date')))\n",
    "        busy.append((start, end))\n",
    "    return busy\n",
    "\n",
    "def compute_available_slots(work_start, work_end, busy_slots):\n",
    "    busy_slots.sort()\n",
    "    available = []\n",
    "    current = work_start\n",
    "    for start, end in busy_slots:\n",
    "        if current < start:\n",
    "            available.append((current, start))\n",
    "        current = max(current, end)\n",
    "    if current < work_end:\n",
    "        available.append((current, work_end))\n",
    "    return available\n",
    "\n",
    "def get_user_availability(email, token_path, date):\n",
    "    if date.weekday() >= 5:  # Skip weekends\n",
    "        return []\n",
    "\n",
    "    service = get_calendar_service(token_path)\n",
    "    day_start = INDIA.localize(datetime.datetime.combine(date, datetime.time(0, 0)))\n",
    "    day_end = INDIA.localize(datetime.datetime.combine(date, datetime.time(23, 59)))\n",
    "\n",
    "    events = get_events(service, day_start, day_end)\n",
    "\n",
    "    # Detect off-hours → working hours\n",
    "    off_start, off_end = extract_off_hours(events, date)\n",
    "\n",
    "    if off_start and off_end:\n",
    "        # Wrap-around case (e.g. 20:00 to 11:00)\n",
    "        if off_end < off_start:\n",
    "            work_start = datetime.datetime.combine(date, off_end)\n",
    "            work_end = datetime.datetime.combine(date, off_start)\n",
    "        else:\n",
    "            # Non-wraparound — normal (18:00 to 09:00) = work 9 AM to 6 PM\n",
    "            work_start = datetime.datetime.combine(date, off_end)\n",
    "            work_end = datetime.datetime.combine(date, off_start)\n",
    "    else:\n",
    "        # Default to 9 AM – 6 PM if not detected\n",
    "        work_start = datetime.datetime.combine(date, datetime.time(9, 0))\n",
    "        work_end = datetime.datetime.combine(date, datetime.time(18, 0))\n",
    "\n",
    "    work_start = INDIA.localize(work_start)\n",
    "    work_end = INDIA.localize(work_end)\n",
    "\n",
    "    busy_slots = merge_busy_slots(events)\n",
    "    return compute_available_slots(work_start, work_end, busy_slots)\n",
    "\n",
    "def getAttendeesAvailableSlots(token_dictionary, target_date: datetime.date):\n",
    "    all_avail = {}\n",
    "\n",
    "    for email, token_path in token_dictionary.items():\n",
    "        try:\n",
    "            # Get availability slots as datetime tuples\n",
    "            slots = get_user_availability(email, token_path, target_date)\n",
    "\n",
    "            # Convert each slot to [\"start\", \"end\"] in ISO format\n",
    "            iso_slots = [\n",
    "                [start.isoformat(), end.isoformat()]\n",
    "                for start, end in slots\n",
    "            ]\n",
    "\n",
    "            all_avail[email] = iso_slots\n",
    "\n",
    "        except Exception as e:\n",
    "            print(all_avail)\n",
    "            print(f\"❌ Error for {email}: {e}\")\n",
    "            all_avail[email] = []\n",
    "\n",
    "    return all_avail\n"
   ]
  },
  {
   "cell_type": "code",
   "execution_count": 20,
   "id": "1843059e-6023-46c3-857a-fdc17d7473ba",
   "metadata": {},
   "outputs": [],
   "source": [
    "def find_token_files_with_emails(folder_path: str) -> dict:\n",
    "    token_map = {}\n",
    "    for file in os.listdir(folder_path):\n",
    "        if file.endswith(\".token\"):\n",
    "            token_path = os.path.join(folder_path, file)\n",
    "            email_user = file.replace(\".token\", \"\")\n",
    "            email = f\"{email_user}@gmail.com\"\n",
    "            token_map[email] = token_path\n",
    "    return token_map"
   ]
  },
  {
   "cell_type": "code",
   "execution_count": 22,
   "id": "db6e3a96-b88f-4b71-b072-962995a5b779",
   "metadata": {},
   "outputs": [
    {
     "name": "stdout",
     "output_type": "stream",
     "text": [
      "{'userthree.amd@gmail.com': '/home/user/Keys/userthree.amd.token', 'userone.amd@gmail.com': '/home/user/Keys/userone.amd.token', 'usertwo.amd@gmail.com': '/home/user/Keys/usertwo.amd.token'}\n"
     ]
    }
   ],
   "source": [
    "token_files = find_token_files_with_emails(\"/home/user/Keys/\")\n",
    "print(token_files)"
   ]
  },
  {
   "cell_type": "code",
   "execution_count": 23,
   "id": "6e606d5a-b903-4718-b5a3-12008f72f27e",
   "metadata": {},
   "outputs": [
    {
     "name": "stdout",
     "output_type": "stream",
     "text": [
      "{}\n",
      "❌ Error for userthree.amd@gmail.com: type object 'datetime.datetime' has no attribute 'datetime'\n",
      "{'userthree.amd@gmail.com': []}\n",
      "❌ Error for userone.amd@gmail.com: type object 'datetime.datetime' has no attribute 'datetime'\n",
      "{'userthree.amd@gmail.com': [], 'userone.amd@gmail.com': []}\n",
      "❌ Error for usertwo.amd@gmail.com: type object 'datetime.datetime' has no attribute 'datetime'\n",
      "{\n",
      "  \"userthree.amd@gmail.com\": [],\n",
      "  \"userone.amd@gmail.com\": [],\n",
      "  \"usertwo.amd@gmail.com\": []\n",
      "}\n"
     ]
    }
   ],
   "source": [
    "token_dictionary = find_token_files_with_emails(\"/home/user/Keys/\")\n",
    "# print(token_dictionary)\n",
    "# get the attendees available slots\n",
    "target_date = date(2025, 7, 15)\n",
    "slots = getAttendeesAvailableSlots(token_dictionary, target_date)\n",
    "print(json.dumps(slots, indent=2))"
   ]
  },
  {
   "cell_type": "code",
   "execution_count": 7,
   "id": "08fa9e3b-ac82-40f0-9f11-d3f7537222f7",
   "metadata": {},
   "outputs": [],
   "source": [
    "\n",
    "\n",
    "BASE_URL = f\"http://localhost:8000/v1\"\n",
    "\n",
    "os.environ[\"BASE_URL\"]    = BASE_URL\n",
    "os.environ[\"OPENAI_API_KEY\"] = \"abc-123\"   \n",
    "\n",
    "from pydantic_ai.models.openai import OpenAIModel\n",
    "from pydantic_ai.providers.openai import OpenAIProvider\n",
    "\n",
    "provider = OpenAIProvider(\n",
    "    base_url=os.environ[\"BASE_URL\"],\n",
    "    api_key=os.environ[\"OPENAI_API_KEY\"],\n",
    ")\n",
    "\n",
    "agent_model = OpenAIModel(\"Qwen3-30B-A3B\", provider=provider)\n",
    "\n",
    "import asyncio\n",
    "from pydantic_ai.mcp import MCPServerStdio\n",
    "async def run_async(prompt: str) -> str:\n",
    "    async with agent.run_mcp_servers():\n",
    "        result = await agent.run(prompt)\n",
    "        return result.output\n",
    "\n",
    "\n",
    "from datetime import datetime\n",
    "from pydantic_ai import Tool          \n",
    "@Tool\n",
    "def get_current_date() -> str:\n",
    "    \"\"\"Return the current date/time as an ISO-formatted string.\"\"\"\n",
    "    return datetime.now().strftime(\"%Y-%m-%d %H:%M:%S\")\n",
    "    \n",
    "from pydantic_ai import Agent\n",
    "\n",
    "agent = Agent(\n",
    "    model=agent_model,\n",
    "    tools=[get_current_date],\n",
    "    system_prompt = \"\"\"\n",
    "    You are an expert assistant for parsing meeting requests. Your task is to extract key details into a structured JSON format.\n",
    "The current date for context is {request_datetime}.\n",
    "- If the user specifies a range (e.g., \"next week\", \"between Monday and Wednesday\"), provide a start and end date.\n",
    "- If the user specifies a single day (e.g., \"tomorrow\", \"on Tuesday\"), the start and end date will be the same.\n",
    "- A \"week\" starts on Monday and ends on Friday.\n",
    "- \"time_preference\" can be 'morning', 'afternoon', 'evening', or a specific time like '2 PM'.\n",
    "\n",
    "You MUST return ONLY a valid JSON object string. Do not add any other text.\n",
    "\n",
    "Example 1:\n",
    "User request: \"Let's meet sometime next week for an hour to discuss the project.\"\n",
    "Current Date: 2025-07-18 (Friday)\n",
    "Output:\n",
    "{{\n",
    "  \"meeting_summary\": \"discuss the project\",\n",
    "  \"duration_minutes\": 60,\n",
    "  \"search_start_date\": \"2025-07-21\",\n",
    "  \"search_end_date\": \"2025-07-25\",\n",
    "  \"time_preference\": null\n",
    "}}\n",
    "\n",
    "Example 2:\n",
    "User request: \"Can we find 30 minutes on Monday afternoon?\"\n",
    "Current Date: 2025-07-18 (Friday)\n",
    "Output:\n",
    "{{\n",
    "  \"meeting_summary\": \"find 30 minutes\",\n",
    "  \"duration_minutes\": 30,\n",
    "  \"search_start_date\": \"2025-07-21\",\n",
    "  \"search_end_date\": \"2025-07-21\",\n",
    "  \"time_preference\": \"afternoon\"\n",
    "}}\n",
    "    \"\"\"\n",
    ")\n"
   ]
  },
  {
   "cell_type": "code",
   "execution_count": 8,
   "id": "5c46caa3-c100-4e86-9979-a54ceec3d597",
   "metadata": {},
   "outputs": [
    {
     "name": "stdout",
     "output_type": "stream",
     "text": [
      "{\"object\":\"list\",\"data\":[{\"id\":\"Qwen3-30B-A3B\",\"object\":\"model\",\"created\":1752397015,\"owned_by\":\"vllm\",\"root\":\"Qwen/Qwen3-30B-A3B\",\"parent\":null,\"max_model_len\":40960,\"permission\":[{\"id\":\"modelperm-3516b2abc8f54f50b8ba73f0aabb09fd\",\"object\":\"model_permission\",\"created\":1752397015,\"allow_create_engine\":false,\"allow_sampling\":true,\"allow_logprobs\":true,\"allow_search_indices\":false,\"allow_view\":true,\"allow_fine_tuning\":false,\"organization\":\"*\",\"group\":null,\"is_blocking\":false}]}]}"
     ]
    }
   ],
   "source": [
    "!curl http://localhost:8000/v1/models -H \"Authorization: Bearer $OPENAI_API_KEY\""
   ]
  },
  {
   "cell_type": "code",
   "execution_count": 9,
   "id": "9eb49314-8de8-4f8d-88b0-49956ee6bea4",
   "metadata": {},
   "outputs": [],
   "source": [
    "# await run_async(\"\"\"{\n",
    "#     \"Request_id\": \"6118b54f-907b-4451-8d48-dd13d76033a5\",\n",
    "#     \"Datetime\": \"09-07-2025T12:34:55\",\n",
    "#     \"Location\": \"IIT Mumbai\",\n",
    "#     \"From\": \"userone.amd@gmail.com\",\n",
    "#     \"Attendees\": [\n",
    "#         {\n",
    "#             \"email\": \"usertwo.amd@gmail.com\"\n",
    "#         },\n",
    "#         {\n",
    "#             \"email\": \"userthree.amd@gmail.com\"\n",
    "#         }\n",
    "#     ],\n",
    "#     \"Subject\": \"Agentic AI Project Status Update\",\n",
    "#     \"EmailContent\": \"Hi team, let's meet on Thursday for 30 minutes to discuss the status of Agentic AI Project.\"\n",
    "# }\"\"\")"
   ]
  },
  {
   "cell_type": "code",
   "execution_count": 10,
   "id": "a6452098-220f-4307-ac4d-6a790b3e1152",
   "metadata": {},
   "outputs": [],
   "source": [
    "def getTimeAndDateUsingEmail(email_content, email_time, attendees_available_slots):\n",
    "    input_prompt = f\"\"\"EmailSentTime: {email_time}\n",
    "    EmailContent: {email_content}\n",
    "    AvailableSlots: {attendees_available_slots}\n",
    "    \"\"\"\n",
    "    loop = asyncio.new_event_loop()\n",
    "    asyncio.set_event_loop(loop)\n",
    "    return loop.run_until_complete(run_async(input_prompt))\n",
    "    "
   ]
  },
  {
   "cell_type": "code",
   "execution_count": 11,
   "id": "6b527237-54ea-44ce-82c8-44066f0f5c1d",
   "metadata": {},
   "outputs": [],
   "source": [
    "@app.route('/receive', methods=['POST'])\n",
    "def receive():\n",
    "    data = request.get_json()\n",
    "\n",
    "    # Extract EmailContent and EmailSentTime\n",
    "    email_content = data.get(\"EmailContent\", \"\")\n",
    "    email_time = data.get(\"Datetime\", \"\")\n",
    "    \n",
    "    # Extract list of attendee emails\n",
    "    attendees = [attendee.get(\"email\") for attendee in data.get(\"Attendees\", [])]\n",
    "\n",
    "    token_dictionary = find_token_files_with_emails(\"/home/user/Keys/\")\n",
    "    attendees_available_slots = getAttendeesAvailableSlots(token_dictionary, target_date)\n",
    "\n",
    "    # Step 1: Use LLM to extract StartTime & EndTime\n",
    "    time_date_response = getTimeAndDateUsingEmail(email_content, email_time, attendees_available_slots)\n",
    "\n",
    "    # Step 2: Dynamically determine target date\n",
    "    # target_date = datetime.fromisoformat(time_date_response[\"StartTime\"]).date()\n",
    "    \n",
    "    return jsonify([attendees,time_date_response])\n",
    "\n",
    "    # # Step 4: Compare extracted meeting time with attendee availability\n",
    "    # availability_dictionary = check_time_matching(attendees_available_slots, time_date_response)\n",
    "\n",
    "    # Continue with logic: either confirm or suggest alternate slot\n"
   ]
  },
  {
   "cell_type": "code",
   "execution_count": 12,
   "id": "052e9095-d8c1-47a3-9b0c-f9a0a82c5881",
   "metadata": {},
   "outputs": [],
   "source": [
    "def run_flask():\n",
    "    app.run(host='0.0.0.0', port=5000)"
   ]
  },
  {
   "cell_type": "code",
   "execution_count": 13,
   "id": "9a603634",
   "metadata": {},
   "outputs": [
    {
     "name": "stdout",
     "output_type": "stream",
     "text": [
      " * Serving Flask app '__main__'\n",
      " * Debug mode: off\n"
     ]
    },
    {
     "name": "stderr",
     "output_type": "stream",
     "text": [
      "WARNING: This is a development server. Do not use it in a production deployment. Use a production WSGI server instead.\n",
      " * Running on all addresses (0.0.0.0)\n",
      " * Running on http://127.0.0.1:5000\n",
      " * Running on http://129.212.176.251:5000\n",
      "Press CTRL+C to quit\n"
     ]
    },
    {
     "name": "stdout",
     "output_type": "stream",
     "text": [
      "{}\n",
      "❌ Error for userthree.amd@gmail.com: type object 'datetime.datetime' has no attribute 'datetime'\n",
      "{'userthree.amd@gmail.com': []}\n",
      "❌ Error for userone.amd@gmail.com: type object 'datetime.datetime' has no attribute 'datetime'\n",
      "{'userthree.amd@gmail.com': [], 'userone.amd@gmail.com': []}\n",
      "❌ Error for usertwo.amd@gmail.com: type object 'datetime.datetime' has no attribute 'datetime'\n"
     ]
    },
    {
     "name": "stderr",
     "output_type": "stream",
     "text": [
      "42.107.78.33 - - [13/Jul/2025 08:57:12] \"POST /receive HTTP/1.1\" 200 -\n",
      "95.215.0.144 - - [13/Jul/2025 08:58:12] code 400, message Bad request version (\"¯nãY»bhlÿ(=':©\\x82ÙoÈ¢×\\x93\\x98´ï\\x80å¹\\x90\\x00(À\")\n",
      "95.215.0.144 - - [13/Jul/2025 08:58:12] \"\\x16\\x03\\x02\\x01o\\x01\\x00\\x01k\\x03\\x02RHÅ\\x1a#÷:Nßâ´\\x82/ÿ\\x09T\\x9f§Äy°hÆ\\x13\\x8c¤\\x1c=\"á\\x1a\\x98 \\x84´,\\x85¯nãY»bhlÿ(=':©\\x82ÙoÈ¢×\\x93\\x98´ï\\x80å¹\\x90\\x00(À\" 400 -\n",
      "176.32.195.85 - - [13/Jul/2025 08:58:27] code 400, message Bad request version ('À\\x13À')\n",
      "176.32.195.85 - - [13/Jul/2025 08:58:27] \"\\x16\\x03\\x01\\x05¨\\x01\\x00\\x05¤\\x03\\x03¬þÓñm¸ìì\"´\\x16òð\\x82\\x9ff«ÞÇ²\\x8f¿\\x84gÚ`¥âÏOÐÉ ÃT-÷\\x10\\x99\\x14\\x91kÙ¥\\x16BíÔ\\x06,i\\x86ÒO0liÈ\"x\\x7f6/E\\x0d\\x00\\x1aÀ+À/À,À0Ì©Ì¨À\\x09À\\x13À\" 400 -\n",
      "176.32.195.85 - - [13/Jul/2025 08:58:27] \"GET /v2/_catalog HTTP/1.1\" 404 -\n"
     ]
    }
   ],
   "source": [
    "# Start Flask in a background thread\n",
    "Thread(target=run_flask, daemon=True).start()"
   ]
  },
  {
   "cell_type": "code",
   "execution_count": 14,
   "id": "4206e01d-e1f6-4066-8572-b0698051901a",
   "metadata": {},
   "outputs": [
    {
     "data": {
      "text/plain": [
       "'\\n\\n{\\n  \"meeting_summary\": \"discuss the status of Agentic AI Project\",\\n  \"duration_minutes\": 30,\\n  \"search_start_date\": \"2025-09-10\",\\n  \"search_end_date\": \"2025-09-10\",\\n  \"time_preference\": null\\n}'"
      ]
     },
     "execution_count": 14,
     "metadata": {},
     "output_type": "execute_result"
    }
   ],
   "source": [
    "await run_async(\"EmailSentTime: 09-07-2025T12:34:55,EmailContent:Hi team, let's meet on Thursday for 30 minutes to discuss the status of Agentic AI Project.\")"
   ]
  }
 ],
 "metadata": {
  "kernelspec": {
   "display_name": "Python 3 (ipykernel)",
   "language": "python",
   "name": "python3"
  },
  "language_info": {
   "codemirror_mode": {
    "name": "ipython",
    "version": 3
   },
   "file_extension": ".py",
   "mimetype": "text/x-python",
   "name": "python",
   "nbconvert_exporter": "python",
   "pygments_lexer": "ipython3",
   "version": "3.12.10"
  }
 },
 "nbformat": 4,
 "nbformat_minor": 5
}
